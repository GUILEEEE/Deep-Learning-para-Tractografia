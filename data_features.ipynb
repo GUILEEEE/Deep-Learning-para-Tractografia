{
 "cells": [
  {
   "cell_type": "markdown",
   "id": "44e1b5ac-f2ea-43b9-9a56-809772ad8922",
   "metadata": {},
   "source": [
    "## Descripción datos entrenamiento"
   ]
  },
  {
   "cell_type": "code",
   "execution_count": 1,
   "id": "09959303-4c3d-48c9-a5cc-21ee5ee81461",
   "metadata": {},
   "outputs": [
    {
     "name": "stdout",
     "output_type": "stream",
     "text": [
      "peaks shape: (138, 166, 134, 15)\n",
      "peaks dtype: float64\n",
      "affine:\n",
      " [[ -1.    0.    0.  -19.5]\n",
      " [  0.   -1.    0.  -21.5]\n",
      " [  0.    0.    1.    9.5]\n",
      " [  0.    0.    0.    1. ]]\n",
      "voxel sizes (mm): [1. 1. 1.]\n",
      "mask shape: (138, 166, 134) unique values: [0. 1.]\n"
     ]
    }
   ],
   "source": [
    "import nibabel as nib\n",
    "import numpy as np\n",
    "\n",
    "peaks_img = nib.load('/home/riemann007/JupyterLab/Tesis/Proyecto/Datos/Entrenamiento/ISMRM Challenge 2022/ismrm2015_withReversed__peaks.nii.gz')\n",
    "peaks = peaks_img.get_fdata()\n",
    "print('peaks shape:', peaks.shape)       # e.g. (X,Y,Z,15)\n",
    "print('peaks dtype:', peaks.dtype)\n",
    "print('affine:\\n', peaks_img.affine)\n",
    "voxel_sizes = np.sqrt((peaks_img.affine[:3,:3] ** 2).sum(axis=0))\n",
    "print('voxel sizes (mm):', voxel_sizes)\n",
    "\n",
    "mask_img = nib.load('/home/riemann007/JupyterLab/Tesis/Proyecto/Datos/Entrenamiento/ISMRM Challenge 2022/ismrm2015_withReversed__local_seeding_mask.nii.gz')\n",
    "print('mask shape:', mask_img.shape, 'unique values:', np.unique(mask_img.get_fdata())[:10])\n",
    "\n",
    "# npz = np.load('/home/riemann007/JupyterLab/Tesis/Proyecto/Datos/Entrenamiento/Vecindades/data_100000_n3_k1.npz')\n",
    "# inputs = npz['inputs']\n",
    "# print('inputs shape:', inputs.shape)     # (N_samples, 408) esperado\n",
    "# print('inputs dtype:', inputs.dtype)\n",
    "# print('X mean len:', inputs.mean(axis=0).shape)  # debería ser (408,)\n"
   ]
  },
  {
   "cell_type": "markdown",
   "id": "28fd1fec-0044-41c6-883b-f375191c7e1e",
   "metadata": {},
   "source": [
    "## Descripción datos validación"
   ]
  },
  {
   "cell_type": "code",
   "execution_count": 2,
   "id": "34b6c800-89f2-4bf6-984c-f8127e43f169",
   "metadata": {},
   "outputs": [
    {
     "name": "stdout",
     "output_type": "stream",
     "text": [
      "peaks shape: (128, 128, 60, 15)\n",
      "peaks dtype: float64\n",
      "affine:\n",
      " [[  -2.            0.            0.          130.07400513]\n",
      " [   0.            2.            0.         -109.65599823]\n",
      " [   0.            0.            2.          -52.63299942]\n",
      " [   0.            0.            0.            1.        ]]\n",
      "voxel sizes (mm): [2. 2. 2.]\n",
      "mask shape: (128, 128, 60) unique values: [0. 1.]\n"
     ]
    }
   ],
   "source": [
    "peaks_img = nib.load('/home/riemann007/JupyterLab/Tesis/MLP/Train_1/generated_peaks_csd.nii.gz')\n",
    "peaks = peaks_img.get_fdata()\n",
    "print('peaks shape:', peaks.shape)       # e.g. (X,Y,Z,15)\n",
    "print('peaks dtype:', peaks.dtype)\n",
    "print('affine:\\n', peaks_img.affine)\n",
    "voxel_sizes = np.sqrt((peaks_img.affine[:3,:3] ** 2).sum(axis=0))\n",
    "print('voxel sizes (mm):', voxel_sizes)\n",
    "\n",
    "mask_img = nib.load('/home/riemann007/JupyterLab/Tesis/seed_mask_validation.nii.gz')\n",
    "print('mask shape:', mask_img.shape, 'unique values:', np.unique(mask_img.get_fdata())[:10])\n"
   ]
  },
  {
   "cell_type": "markdown",
   "id": "f4a87642-ca31-4c6f-96db-a4c3c6199772",
   "metadata": {},
   "source": [
    "## Dimensiones y valores únicos de las máscaras generadas"
   ]
  },
  {
   "cell_type": "code",
   "execution_count": 4,
   "id": "c50b03e8-a136-4527-bf26-34b2e590f42e",
   "metadata": {},
   "outputs": [
    {
     "name": "stdout",
     "output_type": "stream",
     "text": [
      "mask shape: (128, 128, 60) unique values: [0. 1.]\n",
      "mask shape: (128, 128, 60) unique values: [0. 1.]\n",
      "mask shape: (128, 128, 60) unique values: [0.         0.00463704 0.00617637 0.00639536 0.00642493 0.00672275\n",
      " 0.00684353 0.00684511 0.00710638 0.00771162]\n",
      "mask shape: (128, 128, 60) unique values: [0. 1.]\n"
     ]
    }
   ],
   "source": [
    "mask_img = nib.load('/home/riemann007/JupyterLab/Tesis/masks_validation/brain_mask.nii.gz')\n",
    "print('mask shape:', mask_img.shape, 'unique values:', np.unique(mask_img.get_fdata())[:10])\n",
    "\n",
    "mask_img = nib.load('/home/riemann007/JupyterLab/Tesis/masks_validation/deep_wm_mask_5mm.nii.gz')\n",
    "print('mask shape:', mask_img.shape, 'unique values:', np.unique(mask_img.get_fdata())[:10])\n",
    "\n",
    "mask_img = nib.load('/home/riemann007/JupyterLab/Tesis/masks_validation/fa.nii.gz')\n",
    "print('mask shape:', mask_img.shape, 'unique values:', np.unique(mask_img.get_fdata())[:10])\n",
    "\n",
    "mask_img = nib.load('/home/riemann007/JupyterLab/Tesis/masks_validation/wm_mask_fa0.22.nii.gz')\n",
    "print('mask shape:', mask_img.shape, 'unique values:', np.unique(mask_img.get_fdata())[:10])"
   ]
  },
  {
   "cell_type": "markdown",
   "id": "52ac1e01-f43c-49b4-ab89-ff6909560a7c",
   "metadata": {},
   "source": [
    "## Conteo de voxels para estimacion de numero de semillas posibles"
   ]
  },
  {
   "cell_type": "code",
   "execution_count": 5,
   "id": "2821401e-9071-4d68-bc97-5fcbd322a8a5",
   "metadata": {},
   "outputs": [
    {
     "name": "stdout",
     "output_type": "stream",
     "text": [
      "/home/riemann007/JupyterLab/Tesis/masks_validation/brain_mask.nii.gz: 179398 voxeles\n",
      "/home/riemann007/JupyterLab/Tesis/masks_validation/wm_mask_fa0.22.nii.gz: 58155 voxeles\n",
      "/home/riemann007/JupyterLab/Tesis/masks_validation/deep_wm_mask_5mm.nii.gz: 9223 voxeles\n",
      "/home/riemann007/JupyterLab/Tesis/Proyecto/Datos/Entrenamiento/ISMRM Challenge 2022/ismrm2015_withReversed__local_seeding_mask.nii.gz: 655251 voxeles\n"
     ]
    }
   ],
   "source": [
    "root = '/home/riemann007/JupyterLab/Tesis/masks_validation'\n",
    "mask_paths = [\n",
    "    f\"{root}/brain_mask.nii.gz\",\n",
    "    f\"{root}/wm_mask_fa0.22.nii.gz\",\n",
    "    f\"{root}/deep_wm_mask_5mm.nii.gz\",\n",
    "    '/home/riemann007/JupyterLab/Tesis/Proyecto/Datos/Entrenamiento/ISMRM Challenge 2022/ismrm2015_withReversed__local_seeding_mask.nii.gz'\n",
    "]\n",
    "\n",
    "for path in mask_paths:\n",
    "    data = nib.load(path).get_fdata()\n",
    "    count = np.count_nonzero(data)\n",
    "    print(f\"{path}: {count} voxeles\")\n"
   ]
  },
  {
   "cell_type": "code",
   "execution_count": null,
   "id": "a17f7f60-7e8e-49b0-aa3a-5983687f8b41",
   "metadata": {},
   "outputs": [],
   "source": []
  }
 ],
 "metadata": {
  "kernelspec": {
   "display_name": "Python 3 (ipykernel)",
   "language": "python",
   "name": "python3"
  },
  "language_info": {
   "codemirror_mode": {
    "name": "ipython",
    "version": 3
   },
   "file_extension": ".py",
   "mimetype": "text/x-python",
   "name": "python",
   "nbconvert_exporter": "python",
   "pygments_lexer": "ipython3",
   "version": "3.12.5"
  }
 },
 "nbformat": 4,
 "nbformat_minor": 5
}
